{
  "nbformat": 4,
  "nbformat_minor": 0,
  "metadata": {
    "colab": {
      "provenance": []
    },
    "kernelspec": {
      "name": "python3",
      "display_name": "Python 3"
    },
    "language_info": {
      "name": "python"
    }
  },
  "cells": [
    {
      "cell_type": "code",
      "execution_count": 1,
      "metadata": {
        "id": "110CXaYRSYw_"
      },
      "outputs": [],
      "source": [
        "import requests\n",
        "from bs4 import BeautifulSoup\n",
        "from sklearn.feature_extraction.text import TfidfVectorizer\n",
        "from sklearn.metrics.pairwise import cosine_similarity\n",
        "\n",
        "def fetch_web_content(url):\n",
        "    try:\n",
        "        response = requests.get(url)\n",
        "        soup = BeautifulSoup(response.text, 'html.parser')\n",
        "        return ' '.join([par.text for par in soup.find_all('p')])\n",
        "    except Exception as e:\n",
        "        print(f\"Error fetching content from {url}: {str(e)}\")\n",
        "        return \"\"\n",
        "\n",
        "def preprocess_text(text):\n",
        "    # Implement additional preprocessing if necessary\n",
        "    return text.lower()\n",
        "\n",
        "def calculate_similarity(text1, text2):\n",
        "    tfidf_vectorizer = TfidfVectorizer()\n",
        "    tfidf_matrix = tfidf_vectorizer.fit_transform([text1, text2])\n",
        "    similarity_matrix = cosine_similarity(tfidf_matrix[0:1], tfidf_matrix)\n",
        "    return similarity_matrix[0][1]\n",
        "\n",
        "def check_plagiarism(original_text, url_to_check):\n",
        "    web_content = fetch_web_content(url_to_check)\n",
        "\n",
        "    if not web_content:\n",
        "        print(f\"No content fetched from {url_to_check}\")\n",
        "        return\n",
        "\n",
        "    original_text = preprocess_text(original_text)\n",
        "    web_content = preprocess_text(web_content)\n",
        "\n",
        "    similarity = calculate_similarity(original_text, web_content) * 100\n",
        "    print(f\"Similarity between the original text and content from {url_to_check}: {similarity:.2f}%\")\n"
      ]
    },
    {
      "cell_type": "code",
      "source": [],
      "metadata": {
        "id": "6bynrAvGScIB"
      },
      "execution_count": null,
      "outputs": []
    }
  ]
}